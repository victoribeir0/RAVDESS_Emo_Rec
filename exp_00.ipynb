{
  "nbformat": 4,
  "nbformat_minor": 0,
  "metadata": {
    "colab": {
      "name": "exp_00.ipynb",
      "provenance": [],
      "authorship_tag": "ABX9TyOIvWuvHVuxM/3HwHPY+hHc",
      "include_colab_link": true
    },
    "kernelspec": {
      "name": "python3",
      "display_name": "Python 3"
    },
    "language_info": {
      "name": "python"
    }
  },
  "cells": [
    {
      "cell_type": "markdown",
      "metadata": {
        "id": "view-in-github",
        "colab_type": "text"
      },
      "source": [
        "<a href=\"https://colab.research.google.com/github/victoribeir0/emo_rec_python/blob/main/exp_00.ipynb\" target=\"_parent\"><img src=\"https://colab.research.google.com/assets/colab-badge.svg\" alt=\"Open In Colab\"/></a>"
      ]
    },
    {
      "cell_type": "markdown",
      "metadata": {
        "id": "PYutWvAzUCpk"
      },
      "source": [
        "### Exp 00 - Teste de matrizes de co-ocorrência com Autoencoder no Keras"
      ]
    },
    {
      "cell_type": "code",
      "metadata": {
        "id": "zpYoYgSjMbMD"
      },
      "source": [
        "%matplotlib inline\n",
        "%config InlineBackend.figure_format = 'retina'\n",
        "import matplotlib.pyplot as plt\n",
        "import pandas as pd\n",
        "import numpy as np\n",
        "import seaborn as sns\n",
        "import warnings\n",
        "\n",
        "warnings.filterwarnings('ignore')\n",
        "\n",
        "from __future__ import print_function\n",
        "from keras.models import Model\n",
        "from keras.layers import Dense, Input\n",
        "from keras.datasets import mnist\n",
        "from keras.regularizers import l1\n",
        "from keras.optimizers import Adam"
      ],
      "execution_count": null,
      "outputs": []
    },
    {
      "cell_type": "code",
      "metadata": {
        "id": "JLzcYh5LQGbt"
      },
      "source": [
        "def plot_autoencoder_outputs(autoencoder, n, dims):\n",
        "    decoded_imgs = autoencoder.predict(x_test)\n",
        "\n",
        "    # number of example digits to show\n",
        "    n = 5\n",
        "    plt.figure(figsize=(10, 4.5))\n",
        "    for i in range(n):\n",
        "        # plot original image\n",
        "        ax = plt.subplot(2, n, i + 1)\n",
        "        plt.imshow(x_test[i].reshape(*dims))\n",
        "        plt.gray()\n",
        "        ax.get_xaxis().set_visible(False)\n",
        "        ax.get_yaxis().set_visible(False)\n",
        "        if i == n/2:\n",
        "            ax.set_title('Original Images')\n",
        "\n",
        "        # plot reconstruction \n",
        "        ax = plt.subplot(2, n, i + 1 + n)\n",
        "        plt.imshow(decoded_imgs[i].reshape(*dims))\n",
        "        plt.gray()\n",
        "        ax.get_xaxis().set_visible(False)\n",
        "        ax.get_yaxis().set_visible(False)\n",
        "        if i == n/2:\n",
        "            ax.set_title('Reconstructed Images')\n",
        "    plt.show()\n",
        "\n",
        "def plot_loss(history):\n",
        "    historydf = pd.DataFrame(history.history, index=history.epoch)\n",
        "    plt.figure(figsize=(8, 6))\n",
        "    historydf.plot(ylim=(0, historydf.values.max()))\n",
        "    plt.title('Loss: %.3f' % history.history['loss'][-1])\n",
        "    \n",
        "def plot_compare_histories(history_list, name_list, plot_accuracy=True):\n",
        "    dflist = []\n",
        "    min_epoch = len(history_list[0].epoch)\n",
        "    losses = []\n",
        "    for history in history_list:\n",
        "        h = {key: val for key, val in history.history.items() if not key.startswith('val_')}\n",
        "        dflist.append(pd.DataFrame(h, index=history.epoch))\n",
        "        min_epoch = min(min_epoch, len(history.epoch))\n",
        "        losses.append(h['loss'][-1])\n",
        "\n",
        "    historydf = pd.concat(dflist, axis=1)\n",
        "\n",
        "    metrics = dflist[0].columns\n",
        "    idx = pd.MultiIndex.from_product([name_list, metrics], names=['model', 'metric'])\n",
        "    historydf.columns = idx\n",
        "    \n",
        "    plt.figure(figsize=(6, 8))\n",
        "\n",
        "    ax = plt.subplot(211)\n",
        "    historydf.xs('loss', axis=1, level='metric').plot(ylim=(0,1), ax=ax)\n",
        "    plt.title(\"Training Loss: \" + ' vs '.join([str(round(x, 3)) for x in losses]))\n",
        "    \n",
        "    if plot_accuracy:\n",
        "        ax = plt.subplot(212)\n",
        "        historydf.xs('acc', axis=1, level='metric').plot(ylim=(0,1), ax=ax)\n",
        "        plt.title(\"Accuracy\")\n",
        "        plt.xlabel(\"Epochs\")\n",
        "    \n",
        "    plt.xlim(0, min_epoch-1)\n",
        "    plt.tight_layout()"
      ],
      "execution_count": null,
      "outputs": []
    },
    {
      "cell_type": "code",
      "metadata": {
        "colab": {
          "base_uri": "https://localhost:8080/"
        },
        "id": "U6lTfU4iOFRR",
        "outputId": "897a8320-3bf4-442c-8403-d98376de5e14"
      },
      "source": [
        "(x_train, y_train), (x_test, y_test) = mnist.load_data()\n",
        "\n",
        "x_train = x_train.astype('float32') / 255.0\n",
        "x_test = x_test.astype('float32') / 255.0\n",
        "x_train = x_train.reshape((len(x_train), np.prod(x_train.shape[1:])))\n",
        "x_test = x_test.reshape((len(x_test), np.prod(x_test.shape[1:])))\n",
        "\n",
        "print(x_train.shape)\n",
        "print(x_test.shape)"
      ],
      "execution_count": null,
      "outputs": [
        {
          "output_type": "stream",
          "text": [
            "(60000, 784)\n",
            "(10000, 784)\n"
          ],
          "name": "stdout"
        }
      ]
    },
    {
      "cell_type": "code",
      "metadata": {
        "colab": {
          "base_uri": "https://localhost:8080/"
        },
        "id": "fyal1tVVOLLk",
        "outputId": "bc02fc26-7106-4314-ad84-5394b0b8c334"
      },
      "source": [
        "input_size = 784\n",
        "hidden_size = 128\n",
        "code_size = 32\n",
        "\n",
        "input_img = Input(shape=(input_size,))\n",
        "hidden_1 = Dense(hidden_size, activation='relu')(input_img)\n",
        "code = Dense(code_size, activation='relu')(hidden_1)\n",
        "hidden_2 = Dense(hidden_size, activation='relu')(code)\n",
        "output_img = Dense(input_size, activation='sigmoid')(hidden_2)\n",
        "\n",
        "autoencoder = Model(input_img, output_img)\n",
        "autoencoder.compile(optimizer='adam', loss='binary_crossentropy')\n",
        "autoencoder.fit(x_train, x_train, epochs=3)"
      ],
      "execution_count": null,
      "outputs": [
        {
          "output_type": "stream",
          "text": [
            "Epoch 1/3\n",
            "1875/1875 [==============================] - 10s 5ms/step - loss: 0.1882\n",
            "Epoch 2/3\n",
            "1875/1875 [==============================] - 9s 5ms/step - loss: 0.1001\n",
            "Epoch 3/3\n",
            "1875/1875 [==============================] - 9s 5ms/step - loss: 0.0936\n"
          ],
          "name": "stdout"
        },
        {
          "output_type": "execute_result",
          "data": {
            "text/plain": [
              "<keras.callbacks.History at 0x7f9362c578d0>"
            ]
          },
          "metadata": {
            "tags": []
          },
          "execution_count": 45
        }
      ]
    },
    {
      "cell_type": "code",
      "metadata": {
        "colab": {
          "base_uri": "https://localhost:8080/"
        },
        "id": "33tjRYaEPpsP",
        "outputId": "1965acd2-ac97-48c4-e66c-2be5fab02d90"
      },
      "source": [
        "input_size = 784\n",
        "hidden_size = 128\n",
        "code_size = 32\n",
        "\n",
        "input_img = Input(shape=(input_size,))\n",
        "hidden_1 = Dense(hidden_size, activation='relu')(input_img)\n",
        "code = Dense(code_size, activation='relu')(hidden_1)\n",
        "hidden_2 = Dense(hidden_size, activation='relu')(code)\n",
        "output_img = Dense(input_size, activation='sigmoid')(hidden_2)\n",
        "\n",
        "autoencoder = Model(input_img, output_img)\n",
        "autoencoder.compile(optimizer='adam', loss='binary_crossentropy')\n",
        "autoencoder.fit(x_train, x_train, epochs=3)"
      ],
      "execution_count": null,
      "outputs": [
        {
          "output_type": "stream",
          "text": [
            "Epoch 1/3\n",
            "1875/1875 [==============================] - 22s 5ms/step - loss: 0.0899\n",
            "Epoch 2/3\n",
            "1875/1875 [==============================] - 9s 5ms/step - loss: 1.1414e-07\n",
            "Epoch 3/3\n",
            "1875/1875 [==============================] - 9s 5ms/step - loss: 2.4447e-08\n"
          ],
          "name": "stdout"
        },
        {
          "output_type": "execute_result",
          "data": {
            "text/plain": [
              "<keras.callbacks.History at 0x7f936d609b50>"
            ]
          },
          "metadata": {
            "tags": []
          },
          "execution_count": 19
        }
      ]
    },
    {
      "cell_type": "code",
      "metadata": {
        "colab": {
          "base_uri": "https://localhost:8080/",
          "height": 264
        },
        "id": "_wBWrP_HQKte",
        "outputId": "e8df4ce1-5200-4d14-d140-6d94422b13e3"
      },
      "source": [
        "plot_autoencoder_outputs(autoencoder, 2, (28, 28))\n",
        "# decoded_imgs = autoencoder.predict(x_test)\n",
        "# plt.imshow(decoded_imgs[10].reshape(*(28,28)))"
      ],
      "execution_count": null,
      "outputs": [
        {
          "output_type": "display_data",
          "data": {
            "image/png": "[encoded data removed]",
            "text/plain": [
              "<Figure size 720x324 with 10 Axes>"
            ]
          },
          "metadata": {
            "tags": [],
            "image/png": {
              "width": 575,
              "height": 247
            },
            "needs_background": "light"
          }
        }
      ]
    }
  ]
}